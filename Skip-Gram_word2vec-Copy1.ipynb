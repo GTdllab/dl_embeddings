{
 "cells": [
  {
   "cell_type": "markdown",
   "metadata": {},
   "source": [
    "# Skip-gram word2vec\n",
    "\n",
    "In this notebook, I'll lead you through using TensorFlow to implement the word2vec algorithm using the skip-gram architecture. By implementing this, you'll learn about embedding words for use in natural language processing. This will come in handy when dealing with things like machine translation.\n",
    "\n",
    "## Readings\n",
    "\n",
    "Here are the resources I used to build this notebook. I suggest reading these either beforehand or while you're working on this material.\n",
    "\n",
    "* A really good [conceptual overview](http://mccormickml.com/2016/04/19/word2vec-tutorial-the-skip-gram-model/) of word2vec from Chris McCormick \n",
    "* [First word2vec paper](https://arxiv.org/pdf/1301.3781.pdf) from Mikolov et al.\n",
    "* [NIPS paper](http://papers.nips.cc/paper/5021-distributed-representations-of-words-and-phrases-and-their-compositionality.pdf) with improvements for word2vec also from Mikolov et al.\n",
    "* An [implementation of word2vec](http://www.thushv.com/natural_language_processing/word2vec-part-1-nlp-with-deep-learning-with-tensorflow-skip-gram/) from Thushan Ganegedara\n",
    "* TensorFlow [word2vec tutorial](https://www.tensorflow.org/tutorials/word2vec)\n",
    "\n",
    "## Word embeddings\n",
    "\n",
    "When you're dealing with words in text, you end up with tens of thousands of classes to predict, one for each word. Trying to one-hot encode these words is massively inefficient, you'll have one element set to 1 and the other 50,000 set to 0. The matrix multiplication going into the first hidden layer will have almost all of the resulting values be zero. This a huge waste of computation. \n",
    "\n",
    "![one-hot encodings](assets/one_hot_encoding.png)\n",
    "\n",
    "To solve this problem and greatly increase the efficiency of our networks, we use what are called embeddings. Embeddings are just a fully connected layer like you've seen before. We call this layer the embedding layer and the weights are embedding weights. We skip the multiplication into the embedding layer by instead directly grabbing the hidden layer values from the weight matrix. We can do this because the multiplication of a one-hot encoded vector with a matrix returns the row of the matrix corresponding the index of the \"on\" input unit.\n",
    "\n",
    "![lookup](assets/lookup_matrix.png)\n",
    "\n",
    "Instead of doing the matrix multiplication, we use the weight matrix as a lookup table. We encode the words as integers, for example \"heart\" is encoded as 958, \"mind\" as 18094. Then to get hidden layer values for \"heart\", you just take the 958th row of the embedding matrix. This process is called an **embedding lookup** and the number of hidden units is the **embedding dimension**.\n",
    "\n",
    "<img src='assets/tokenize_lookup.png' width=500>\n",
    " \n",
    "There is nothing magical going on here. The embedding lookup table is just a weight matrix. The embedding layer is just a hidden layer. The lookup is just a shortcut for the matrix multiplication. The lookup table is trained just like any weight matrix as well.\n",
    "\n",
    "Embeddings aren't only used for words of course. You can use them for any model where you have a massive number of classes. A particular type of model called **Word2Vec** uses the embedding layer to find vector representations of words that contain semantic meaning.\n",
    "\n"
   ]
  },
  {
   "cell_type": "markdown",
   "metadata": {},
   "source": [
    "## Word2Vec\n",
    "\n",
    "The word2vec algorithm finds much more efficient representations by finding vectors that represent the words. These vectors also contain semantic information about the words. Words that show up in similar contexts, such as \"black\", \"white\", and \"red\" will have vectors near each other. There are two architectures for implementing word2vec, CBOW (Continuous Bag-Of-Words) and Skip-gram.\n",
    "\n",
    "<img src=\"assets/word2vec_architectures.png\" width=\"500\">\n",
    "\n",
    "In this implementation, we'll be using the skip-gram architecture because it performs better than CBOW. Here, we pass in a word and try to predict the words surrounding it in the text. In this way, we can train the network to learn representations for words that show up in similar contexts.\n",
    "\n",
    "First up, importing packages."
   ]
  },
  {
   "cell_type": "code",
   "execution_count": 1,
   "metadata": {
    "collapsed": true
   },
   "outputs": [],
   "source": [
    "import time\n",
    "\n",
    "import numpy as np\n",
    "import tensorflow as tf\n",
    "\n",
    "import utils"
   ]
  },
  {
   "cell_type": "markdown",
   "metadata": {},
   "source": [
    "Load the [text8 dataset](http://mattmahoney.net/dc/textdata.html), a file of cleaned up Wikipedia articles from Matt Mahoney. The next cell will download the data set to the `data` folder. Then you can extract it and delete the archive file to save storage space."
   ]
  },
  {
   "cell_type": "code",
   "execution_count": 2,
   "metadata": {
    "collapsed": true
   },
   "outputs": [],
   "source": [
    "from urllib.request import urlretrieve\n",
    "from os.path import isfile, isdir\n",
    "from tqdm import tqdm\n",
    "import zipfile\n",
    "\n",
    "dataset_folder_path = 'data'\n",
    "dataset_filename = 'text8.zip'\n",
    "dataset_name = 'Text8 Dataset'\n",
    "\n",
    "class DLProgress(tqdm):\n",
    "    last_block = 0\n",
    "\n",
    "    def hook(self, block_num=1, block_size=1, total_size=None):\n",
    "        self.total = total_size\n",
    "        self.update((block_num - self.last_block) * block_size)\n",
    "        self.last_block = block_num\n",
    "\n",
    "if not isfile(dataset_filename):\n",
    "    with DLProgress(unit='B', unit_scale=True, miniters=1, desc=dataset_name) as pbar:\n",
    "        urlretrieve(\n",
    "            'http://mattmahoney.net/dc/text8.zip',\n",
    "            dataset_filename,\n",
    "            pbar.hook)\n",
    "\n",
    "if not isdir(dataset_folder_path):\n",
    "    with zipfile.ZipFile(dataset_filename) as zip_ref:\n",
    "        zip_ref.extractall(dataset_folder_path)\n",
    "        \n",
    "with open('data/text8') as f:\n",
    "    text = f.read()"
   ]
  },
  {
   "cell_type": "markdown",
   "metadata": {},
   "source": [
    "## Preprocessing\n",
    "\n",
    "Here I'm fixing up the text to make training easier. This comes from the `utils` module I wrote. The `preprocess` function coverts any punctuation into tokens, so a period is changed to ` <PERIOD> `. In this data set, there aren't any periods, but it will help in other NLP problems. I'm also removing all words that show up five or fewer times in the dataset. This will greatly reduce issues due to noise in the data and improve the quality of the vector representations. If you want to write your own functions for this stuff, go for it."
   ]
  },
  {
   "cell_type": "code",
   "execution_count": 3,
   "metadata": {},
   "outputs": [
    {
     "name": "stdout",
     "output_type": "stream",
     "text": [
      "['anarchism', 'originated', 'as', 'a', 'term', 'of', 'abuse', 'first', 'used', 'against', 'early', 'working', 'class', 'radicals', 'including', 'the', 'diggers', 'of', 'the', 'english', 'revolution', 'and', 'the', 'sans', 'culottes', 'of', 'the', 'french', 'revolution', 'whilst', 'the', 'term', 'is', 'still', 'used', 'in', 'a', 'pejorative', 'way', 'to', 'describe', 'any', 'act', 'that', 'used', 'violent', 'means', 'to', 'destroy', 'the']\n"
     ]
    }
   ],
   "source": [
    "words = utils.preprocess(text)\n",
    "print(words[:50])"
   ]
  },
  {
   "cell_type": "code",
   "execution_count": 4,
   "metadata": {},
   "outputs": [
    {
     "name": "stdout",
     "output_type": "stream",
     "text": [
      "Total words: 16680599\n",
      "Unique words: 63641\n"
     ]
    }
   ],
   "source": [
    "print(\"Total words: {}\".format(len(words)))\n",
    "print(\"Unique words: {}\".format(len(set(words))))"
   ]
  },
  {
   "cell_type": "markdown",
   "metadata": {},
   "source": [
    "And here I'm creating dictionaries to convert words to integers and backwards, integers to words. The integers are assigned in descending frequency order, so the most frequent word (\"the\") is given the integer 0 and the next most frequent is 1 and so on. The words are converted to integers and stored in the list `int_words`."
   ]
  },
  {
   "cell_type": "code",
   "execution_count": 5,
   "metadata": {
    "collapsed": true
   },
   "outputs": [],
   "source": [
    "vocab_to_int, int_to_vocab = utils.create_lookup_tables(words)\n",
    "int_words = [vocab_to_int[word] for word in words]"
   ]
  },
  {
   "cell_type": "markdown",
   "metadata": {},
   "source": [
    "## Subsampling\n",
    "\n",
    "Words that show up often such as \"the\", \"of\", and \"for\" don't provide much context to the nearby words. If we discard some of them, we can remove some of the noise from our data and in return get faster training and better representations. This process is called subsampling by Mikolov. For each word $w_i$ in the training set, we'll discard it with probability given by \n",
    "\n",
    "$$ P(w_i) = 1 - \\sqrt{\\frac{t}{f(w_i)}} $$\n",
    "\n",
    "where $t$ is a threshold parameter and $f(w_i)$ is the frequency of word $w_i$ in the total dataset.\n",
    "\n",
    "I'm going to leave this up to you as an exercise. This is more of a programming challenge, than about deep learning specifically. But, being able to prepare your data for your network is an important skill to have. Check out my solution to see how I did it.\n",
    "\n",
    "> **Exercise:** Implement subsampling for the words in `int_words`. That is, go through `int_words` and discard each word given the probablility $P(w_i)$ shown above. Note that $P(w_i)$ is the probability that a word is discarded. Assign the subsampled data to `train_words`."
   ]
  },
  {
   "cell_type": "code",
   "execution_count": 6,
   "metadata": {
    "collapsed": true
   },
   "outputs": [],
   "source": [
    "from collections import Counter\n",
    "word_counts = Counter(int_words)"
   ]
  },
  {
   "cell_type": "code",
   "execution_count": 7,
   "metadata": {
    "collapsed": true
   },
   "outputs": [],
   "source": [
    "total_len=len(int_words)\n",
    "freqs = {word:ii/total_len  for word,ii in word_counts.items()}"
   ]
  },
  {
   "cell_type": "code",
   "execution_count": 8,
   "metadata": {
    "collapsed": true
   },
   "outputs": [],
   "source": [
    "threshold = 1e-5\n",
    "word_prob = {word:1-np.sqrt(threshold/freqs[word]) for word in word_counts}"
   ]
  },
  {
   "cell_type": "code",
   "execution_count": 9,
   "metadata": {
    "collapsed": true
   },
   "outputs": [],
   "source": [
    "import random\n",
    "train_words = [word for word in int_words if random.random() < (1 - word_prob[word])]"
   ]
  },
  {
   "cell_type": "code",
   "execution_count": null,
   "metadata": {
    "collapsed": true
   },
   "outputs": [],
   "source": []
  },
  {
   "cell_type": "code",
   "execution_count": 11,
   "metadata": {},
   "outputs": [
    {
     "ename": "SyntaxError",
     "evalue": "invalid syntax (<ipython-input-11-e5c606e9d628>, line 2)",
     "output_type": "error",
     "traceback": [
      "\u001b[1;36m  File \u001b[1;32m\"<ipython-input-11-e5c606e9d628>\"\u001b[1;36m, line \u001b[1;32m2\u001b[0m\n\u001b[1;33m    train_words = # The final subsampled word list\u001b[0m\n\u001b[1;37m                                                  ^\u001b[0m\n\u001b[1;31mSyntaxError\u001b[0m\u001b[1;31m:\u001b[0m invalid syntax\n"
     ]
    }
   ],
   "source": [
    "## Your code here\n",
    "train_words = # The final subsampled word list"
   ]
  },
  {
   "cell_type": "markdown",
   "metadata": {},
   "source": [
    "## Making batches"
   ]
  },
  {
   "cell_type": "markdown",
   "metadata": {},
   "source": [
    "Now that our data is in good shape, we need to get it into the proper form to pass it into our network. With the skip-gram architecture, for each word in the text, we want to grab all the words in a window around that word, with size $C$. \n",
    "\n",
    "From [Mikolov et al.](https://arxiv.org/pdf/1301.3781.pdf): \n",
    "\n",
    "\"Since the more distant words are usually less related to the current word than those close to it, we give less weight to the distant words by sampling less from those words in our training examples... If we choose $C = 5$, for each training word we will select randomly a number $R$ in range $< 1; C >$, and then use $R$ words from history and $R$ words from the future of the current word as correct labels.\"\n",
    "\n",
    "> **Exercise:** Implement a function `get_target` that receives a list of words, an index, and a window size, then returns a list of words in the window around the index. Make sure to use the algorithm described above, where you choose a random number of words from the window."
   ]
  },
  {
   "cell_type": "code",
   "execution_count": 10,
   "metadata": {
    "collapsed": true
   },
   "outputs": [],
   "source": [
    "def get_target(words, idx, window_size=5):\n",
    "    ''' Get a list of words in a window around an index. '''\n",
    "    \n",
    "    # Your code here\n",
    "    R=random.randint(1,window_size+1)  ##why random?\n",
    "    start=idx - R if (idx-R)>0 else 0\n",
    "    end=idx+R\n",
    "    target_words = set(words[start:idx] + words[idx+1:end+1]) ##why not set(words[start:end+1])\n",
    "    \n",
    "    return list(target_words)"
   ]
  },
  {
   "cell_type": "markdown",
   "metadata": {},
   "source": [
    "Here's a function that returns batches for our network. The idea is that it grabs `batch_size` words from a words list. Then for each of those words, it gets the target words in the window. I haven't found a way to pass in a random number of target words and get it to work with the architecture, so I make one row per input-target pair. This is a generator function by the way, helps save memory."
   ]
  },
  {
   "cell_type": "code",
   "execution_count": 11,
   "metadata": {
    "collapsed": true
   },
   "outputs": [],
   "source": [
    "def get_batches(words, batch_size, window_size=5):\n",
    "    ''' Create a generator of word batches as a tuple (inputs, targets) '''\n",
    "    \n",
    "    n_batches = len(words)//batch_size\n",
    "    \n",
    "    # only full batches\n",
    "    words = words[:n_batches*batch_size]\n",
    "    \n",
    "    for idx in range(0, len(words), batch_size):\n",
    "        x, y = [], []\n",
    "        batch = words[idx:idx+batch_size]\n",
    "        for ii in range(len(batch)):\n",
    "            batch_x = batch[ii]\n",
    "            batch_y = get_target(batch, ii, window_size)\n",
    "            y.extend(batch_y)\n",
    "            x.extend([batch_x]*len(batch_y))\n",
    "        yield x, y\n",
    "    "
   ]
  },
  {
   "cell_type": "markdown",
   "metadata": {},
   "source": [
    "## Building the graph\n",
    "\n",
    "From [Chris McCormick's blog](http://mccormickml.com/2016/04/19/word2vec-tutorial-the-skip-gram-model/), we can see the general structure of our network.\n",
    "![embedding_network](./assets/skip_gram_net_arch.png)\n",
    "\n",
    "The input words are passed in as integers. This will go into a hidden layer of linear units, then into a softmax layer. We'll use the softmax layer to make a prediction like normal.\n",
    "\n",
    "The idea here is to train the hidden layer weight matrix to find efficient representations for our words. We can discard the softmax layer becuase we don't really care about making predictions with this network. We just want the embedding matrix so we can use it in other networks we build from the dataset.\n",
    "\n",
    "I'm going to have you build the graph in stages now. First off, creating the `inputs` and `labels` placeholders like normal.\n",
    "\n",
    "> **Exercise:** Assign `inputs` and `labels` using `tf.placeholder`. We're going to be passing in integers, so set the data types to `tf.int32`. The batches we're passing in will have varying sizes, so set the batch sizes to [`None`]. To make things work later, you'll need to set the second dimension of `labels` to `None` or `1`."
   ]
  },
  {
   "cell_type": "code",
   "execution_count": 12,
   "metadata": {
    "collapsed": true
   },
   "outputs": [],
   "source": [
    "train_graph = tf.Graph()\n",
    "with train_graph.as_default():\n",
    "    inputs = tf.placeholder(tf.int32,[None],name=\"inputs\")\n",
    "    labels = tf.placeholder(tf.int32,[None,None],name=\"labels\")"
   ]
  },
  {
   "cell_type": "markdown",
   "metadata": {},
   "source": [
    "## Embedding\n",
    "\n"
   ]
  },
  {
   "cell_type": "markdown",
   "metadata": {
    "collapsed": true
   },
   "source": [
    "The embedding matrix has a size of the number of words by the number of units in the hidden layer. So, if you have 10,000 words and 300 hidden units, the matrix will have size $10,000 \\times 300$. Remember that we're using tokenized data for our inputs, usually as integers, where the number of tokens is the number of words in our vocabulary.\n",
    "\n",
    "\n",
    "> **Exercise:** Tensorflow provides a convenient function [`tf.nn.embedding_lookup`](https://www.tensorflow.org/api_docs/python/tf/nn/embedding_lookup) that does this lookup for us. You pass in the embedding matrix and a tensor of integers, then it returns rows in the matrix corresponding to those integers. Below, set the number of embedding features you'll use (200 is a good start), create the embedding matrix variable, and use `tf.nn.embedding_lookup` to get the embedding tensors. For the embedding matrix, I suggest you initialize it with a uniform random numbers between -1 and 1 using [tf.random_uniform](https://www.tensorflow.org/api_docs/python/tf/random_uniform)."
   ]
  },
  {
   "cell_type": "code",
   "execution_count": 13,
   "metadata": {
    "collapsed": true
   },
   "outputs": [],
   "source": [
    "n_vocab = len(int_to_vocab)\n",
    "n_embedding =  200 # Number of embedding features \n",
    "with train_graph.as_default():\n",
    "    embedding = tf.Variable(tf.random_uniform((n_vocab, n_embedding), -1, 1))# create embedding weight matrix here\n",
    "    embed = tf.nn.embedding_lookup(embedding,inputs)# use tf.nn.embedding_lookup to get the hidden layer output"
   ]
  },
  {
   "cell_type": "markdown",
   "metadata": {},
   "source": [
    "## Negative sampling\n",
    "\n"
   ]
  },
  {
   "cell_type": "markdown",
   "metadata": {},
   "source": [
    "For every example we give the network, we train it using the output from the softmax layer. That means for each input, we're making very small changes to millions of weights even though we only have one true example. This makes training the network very inefficient. We can approximate the loss from the softmax layer by only updating a small subset of all the weights at once. We'll update the weights for the correct label, but only a small number of incorrect labels. This is called [\"negative sampling\"](http://papers.nips.cc/paper/5021-distributed-representations-of-words-and-phrases-and-their-compositionality.pdf). Tensorflow has a convenient function to do this, [`tf.nn.sampled_softmax_loss`](https://www.tensorflow.org/api_docs/python/tf/nn/sampled_softmax_loss).\n",
    "\n",
    "> **Exercise:** Below, create weights and biases for the softmax layer. Then, use [`tf.nn.sampled_softmax_loss`](https://www.tensorflow.org/api_docs/python/tf/nn/sampled_softmax_loss) to calculate the loss. Be sure to read the documentation to figure out how it works."
   ]
  },
  {
   "cell_type": "code",
   "execution_count": 17,
   "metadata": {},
   "outputs": [],
   "source": [
    "# Number of negative labels to sample\n",
    "n_sampled = 100\n",
    "with train_graph.as_default():\n",
    "    softmax_w = tf.Variable(tf.random_normal((n_vocab,n_embedding), stddev=0.1))# create softmax weight matrix here\n",
    "    softmax_b = tf.Variable(tf.zeros(n_vocab))# create softmax biases here\n",
    "    \n",
    "    # Calculate the loss using negative sampling\n",
    "    loss = tf.nn.sampled_softmax_loss(softmax_w,softmax_b,\n",
    "                                     labels,embed,\n",
    "                                     n_sampled,n_vocab) \n",
    "    \n",
    "    cost = tf.reduce_mean(loss)\n",
    "    optimizer = tf.train.AdamOptimizer().minimize(cost)"
   ]
  },
  {
   "cell_type": "markdown",
   "metadata": {},
   "source": [
    "## Validation\n",
    "\n",
    "This code is from Thushan Ganegedara's implementation. Here we're going to choose a few common words and few uncommon words. Then, we'll print out the closest words to them. It's a nice way to check that our embedding table is grouping together words with similar semantic meanings."
   ]
  },
  {
   "cell_type": "code",
   "execution_count": 18,
   "metadata": {
    "collapsed": true
   },
   "outputs": [],
   "source": [
    "with train_graph.as_default():\n",
    "    ## From Thushan Ganegedara's implementation\n",
    "    valid_size = 16 # Random set of words to evaluate similarity on.\n",
    "    valid_window = 100\n",
    "    # pick 8 samples from (0,100) and (1000,1100) each ranges. lower id implies more frequent \n",
    "    valid_examples = np.array(random.sample(range(valid_window), valid_size//2))\n",
    "    valid_examples = np.append(valid_examples, \n",
    "                               random.sample(range(1000,1000+valid_window), valid_size//2))\n",
    "\n",
    "    valid_dataset = tf.constant(valid_examples, dtype=tf.int32)\n",
    "    \n",
    "    # We use the cosine distance:\n",
    "    norm = tf.sqrt(tf.reduce_sum(tf.square(embedding), 1, keep_dims=True))\n",
    "    normalized_embedding = embedding / norm\n",
    "    valid_embedding = tf.nn.embedding_lookup(normalized_embedding, valid_dataset)\n",
    "    similarity = tf.matmul(valid_embedding, tf.transpose(normalized_embedding))"
   ]
  },
  {
   "cell_type": "code",
   "execution_count": 19,
   "metadata": {
    "collapsed": true
   },
   "outputs": [],
   "source": [
    "# If the checkpoints directory doesn't exist:\n",
    "!mkdir checkpoints"
   ]
  },
  {
   "cell_type": "markdown",
   "metadata": {},
   "source": [
    "## Training\n",
    "\n",
    "Below is the code to train the network. Every 100 batches it reports the training loss. Every 1000 batches, it'll print out the validation words."
   ]
  },
  {
   "cell_type": "code",
   "execution_count": null,
   "metadata": {},
   "outputs": [
    {
     "name": "stdout",
     "output_type": "stream",
     "text": [
      "Epoch 1/10 Iteration: 100 Avg. Training loss: 5.7057 0.4849 sec/batch\n",
      "Epoch 1/10 Iteration: 200 Avg. Training loss: 5.6757 0.4497 sec/batch\n",
      "Epoch 1/10 Iteration: 300 Avg. Training loss: 5.6010 0.4395 sec/batch\n",
      "Epoch 1/10 Iteration: 400 Avg. Training loss: 5.6257 0.4362 sec/batch\n",
      "Epoch 1/10 Iteration: 500 Avg. Training loss: 5.5652 0.4362 sec/batch\n",
      "Epoch 1/10 Iteration: 600 Avg. Training loss: 5.6100 0.4516 sec/batch\n",
      "Epoch 1/10 Iteration: 700 Avg. Training loss: 5.6174 0.4370 sec/batch\n",
      "Epoch 1/10 Iteration: 800 Avg. Training loss: 5.5736 0.4401 sec/batch\n",
      "Epoch 1/10 Iteration: 900 Avg. Training loss: 5.5414 0.4372 sec/batch\n",
      "Epoch 1/10 Iteration: 1000 Avg. Training loss: 5.4984 0.4360 sec/batch\n",
      "Nearest to have: populous, pangolins, hengest, targaryen, inelegant, monuc, nim, mba,\n",
      "Nearest to a: replayed, into, devolving, shudo, folkestone, tlp, neoplatonist, xenosaga,\n",
      "Nearest to more: crafts, staged, coup, ex, dosomething, arecibo, buff, waiting,\n",
      "Nearest to there: kowalski, school, monies, worst, hindi, maiman, dartford, batted,\n",
      "Nearest to between: spanking, chadwick, ouguiya, cubby, psychiatric, regarding, roeg, restaurant,\n",
      "Nearest to up: enhanced, osmosis, exilic, cerebellum, spacesuit, microphotonics, heredity, invade,\n",
      "Nearest to other: rs, unassigned, atrocious, mummy, creams, contradictory, brindle, twente,\n",
      "Nearest to many: minesweeper, cartoon, quantisation, tracing, canoeing, tni, native, thujone,\n",
      "Nearest to mainly: touchscreen, relationship, lethality, zhisui, expos, monomer, whack, incomplete,\n",
      "Nearest to recorded: unary, carelessness, spoke, jurats, utilised, might, increase, laeken,\n",
      "Nearest to experience: mpg, dflp, checkerboard, huston, aggressively, possibly, maharishi, freedmen,\n",
      "Nearest to joseph: shrimp, stimulation, esset, knitted, appel, encyclop, eyewitness, capybara,\n",
      "Nearest to articles: yoshino, linebackers, ramsar, planetoid, unsettling, pleases, primates, abi,\n",
      "Nearest to account: airbus, mayo, bunghole, gochujang, ruthenian, jeannie, jacobites, christiansen,\n",
      "Nearest to writers: borrelly, by, psr, joints, bec, balkline, lanthanides, liebster,\n",
      "Nearest to nobel: joker, syncretism, caecilius, tall, arbor, theosophical, poly, masoretic,\n",
      "Epoch 1/10 Iteration: 1100 Avg. Training loss: 5.5722 0.4458 sec/batch\n",
      "Epoch 1/10 Iteration: 1200 Avg. Training loss: 5.4657 0.4353 sec/batch\n",
      "Epoch 1/10 Iteration: 1300 Avg. Training loss: 5.3843 0.4344 sec/batch\n",
      "Epoch 1/10 Iteration: 1400 Avg. Training loss: 5.3207 0.4440 sec/batch\n",
      "Epoch 1/10 Iteration: 1500 Avg. Training loss: 5.2707 0.4335 sec/batch\n",
      "Epoch 1/10 Iteration: 1600 Avg. Training loss: 5.2530 0.4394 sec/batch\n",
      "Epoch 1/10 Iteration: 1700 Avg. Training loss: 5.1664 0.4359 sec/batch\n",
      "Epoch 1/10 Iteration: 1800 Avg. Training loss: 5.1748 0.4383 sec/batch\n",
      "Epoch 1/10 Iteration: 1900 Avg. Training loss: 5.0767 0.4375 sec/batch\n",
      "Epoch 1/10 Iteration: 2000 Avg. Training loss: 5.0611 0.4485 sec/batch\n",
      "Nearest to have: populous, www, unreasonable, wehlau, targaryen, euler, hengest, equal,\n",
      "Nearest to a: into, replayed, manual, proposed, small, equiv, agency, neutral,\n",
      "Nearest to more: crafts, coup, staged, buff, waiting, ex, emergency, comprising,\n",
      "Nearest to there: worst, school, used, mapping, uncomfortable, kowalski, s, hindi,\n",
      "Nearest to between: regarding, chadwick, attacking, spanking, cubby, sense, collecting, restaurant,\n",
      "Nearest to up: enhanced, using, exilic, heredity, invade, osmosis, taken, dynasty,\n",
      "Nearest to other: rs, october, unassigned, contradictory, fourteen, whereas, testament, independence,\n",
      "Nearest to many: native, post, cartoon, tracing, review, recording, husband, masovia,\n",
      "Nearest to mainly: relationship, incomplete, touchscreen, lethality, expos, whack, zhisui, production,\n",
      "Nearest to recorded: carelessness, might, increase, spoke, unary, utilised, laeken, jurisprudence,\n",
      "Nearest to experience: mpg, possibly, freedmen, huston, aggressively, dvds, filename, checkerboard,\n",
      "Nearest to joseph: shrimp, stimulation, eyewitness, appel, cadet, visas, esset, encyclop,\n",
      "Nearest to articles: ramsar, linebackers, yoshino, adding, primates, unsettling, abi, pleases,\n",
      "Nearest to account: airbus, mayo, gochujang, ruthenian, bunghole, indicates, fledgling, lists,\n",
      "Nearest to writers: by, psr, adoption, left, records, joints, borrelly, celebrations,\n",
      "Nearest to nobel: joker, tall, caecilius, syncretism, boats, arbor, itt, theosophical,\n",
      "Epoch 1/10 Iteration: 2100 Avg. Training loss: 5.0200 0.4478 sec/batch\n",
      "Epoch 1/10 Iteration: 2200 Avg. Training loss: 4.9647 0.4557 sec/batch\n",
      "Epoch 1/10 Iteration: 2300 Avg. Training loss: 4.9268 0.4624 sec/batch\n",
      "Epoch 1/10 Iteration: 2400 Avg. Training loss: 4.9366 0.4591 sec/batch\n",
      "Epoch 1/10 Iteration: 2500 Avg. Training loss: 4.8775 0.4518 sec/batch\n",
      "Epoch 1/10 Iteration: 2600 Avg. Training loss: 4.8795 0.4638 sec/batch\n",
      "Epoch 1/10 Iteration: 2700 Avg. Training loss: 4.8412 0.4486 sec/batch\n",
      "Epoch 1/10 Iteration: 2800 Avg. Training loss: 4.8228 0.4570 sec/batch\n",
      "Epoch 1/10 Iteration: 2900 Avg. Training loss: 4.8208 0.4606 sec/batch\n",
      "Epoch 1/10 Iteration: 3000 Avg. Training loss: 4.8187 0.4601 sec/batch\n",
      "Nearest to have: populous, www, unreasonable, euler, targaryen, hengest, fueled, widescreen,\n",
      "Nearest to a: proposed, manual, into, agency, replayed, equiv, engage, controversially,\n",
      "Nearest to more: crafts, staged, waiting, buff, coup, balance, matches, harper,\n",
      "Nearest to there: worst, hindi, mapping, school, monies, kowalski, used, uncomfortable,\n",
      "Nearest to between: chadwick, regarding, spanking, restaurant, cubby, collecting, attacking, psychiatric,\n",
      "Nearest to up: invade, heredity, enhanced, exilic, using, osmosis, firm, attention,\n",
      "Nearest to other: rs, terrain, contradictory, study, testament, fourteen, donald, unassigned,\n",
      "Nearest to many: native, cartoon, tracing, post, viewers, minesweeper, recording, masovia,\n",
      "Nearest to mainly: relationship, touchscreen, incomplete, aside, expos, fees, societal, situation,\n",
      "Nearest to recorded: carelessness, might, increase, spoke, unary, utilised, jurisprudence, subordinate,\n",
      "Nearest to experience: mpg, possibly, filename, dvds, freedmen, aggressively, checkerboard, huston,\n",
      "Nearest to joseph: shrimp, stimulation, eyewitness, encyclop, visas, cadet, appel, knew,\n",
      "Nearest to articles: ramsar, yoshino, linebackers, pleases, primates, adding, unsettling, abi,\n",
      "Nearest to account: airbus, mayo, indicates, fledgling, homomorphism, gochujang, laptops, ruthenian,\n",
      "Nearest to writers: by, joints, uprooted, adoption, psr, emirs, celebrations, records,\n",
      "Nearest to nobel: joker, tall, caecilius, syncretism, leonard, arbor, itt, happiness,\n",
      "Epoch 1/10 Iteration: 3100 Avg. Training loss: 4.8198 0.4584 sec/batch\n",
      "Epoch 1/10 Iteration: 3200 Avg. Training loss: 4.7961 0.4576 sec/batch\n",
      "Epoch 1/10 Iteration: 3300 Avg. Training loss: 4.7807 0.4531 sec/batch\n",
      "Epoch 1/10 Iteration: 3400 Avg. Training loss: 4.7513 0.4579 sec/batch\n",
      "Epoch 1/10 Iteration: 3500 Avg. Training loss: 4.7893 0.4645 sec/batch\n",
      "Epoch 1/10 Iteration: 3600 Avg. Training loss: 4.7159 0.4683 sec/batch\n",
      "Epoch 1/10 Iteration: 3700 Avg. Training loss: 4.7419 0.4586 sec/batch\n",
      "Epoch 1/10 Iteration: 3800 Avg. Training loss: 4.7672 0.4589 sec/batch\n",
      "Epoch 1/10 Iteration: 3900 Avg. Training loss: 4.7519 0.4524 sec/batch\n",
      "Epoch 1/10 Iteration: 4000 Avg. Training loss: 4.6981 0.4483 sec/batch\n",
      "Nearest to have: populous, euler, unreasonable, hengest, www, mba, widescreen, targaryen,\n",
      "Nearest to a: proposed, replayed, manual, into, equiv, fulfillment, melodic, instance,\n",
      "Nearest to more: crafts, staged, buff, waiting, filenames, balance, reiterates, authenticated,\n",
      "Nearest to there: worst, hindi, mapping, used, monies, dartford, uncomfortable, kowalski,\n",
      "Nearest to between: chadwick, spanking, regarding, cubby, psychiatric, ouguiya, restaurant, collecting,\n",
      "Nearest to up: invade, heredity, exilic, enhanced, aviv, cerebellum, politic, osmosis,\n",
      "Nearest to other: rs, terrain, granting, contradictory, donald, study, ordinances, tropes,\n",
      "Nearest to many: native, cartoon, minesweeper, post, tracing, spider, implications, grows,\n",
      "Nearest to mainly: relationship, touchscreen, expos, fees, aside, harpercollins, lethality, incomplete,\n"
     ]
    },
    {
     "name": "stdout",
     "output_type": "stream",
     "text": [
      "Nearest to recorded: carelessness, might, spoke, utilised, unary, increase, fixation, subfamily,\n",
      "Nearest to experience: mpg, possibly, checkerboard, filename, freedmen, dvds, huston, westerly,\n",
      "Nearest to joseph: shrimp, stimulation, encyclop, eyewitness, visas, cadet, vainly, francois,\n",
      "Nearest to articles: ramsar, linebackers, yoshino, pleases, unsettling, primates, abi, inspected,\n",
      "Nearest to account: airbus, mayo, laptops, ruthenian, gochujang, fledgling, jacobites, indicates,\n",
      "Nearest to writers: by, joints, bec, uprooted, emirs, psr, snark, records,\n",
      "Nearest to nobel: joker, leonard, tall, syncretism, recipient, itt, caecilius, arbor,\n",
      "Epoch 1/10 Iteration: 4100 Avg. Training loss: 4.6835 0.4612 sec/batch\n",
      "Epoch 1/10 Iteration: 4200 Avg. Training loss: 4.6950 0.4498 sec/batch\n",
      "Epoch 1/10 Iteration: 4300 Avg. Training loss: 4.6583 0.4445 sec/batch\n",
      "Epoch 1/10 Iteration: 4400 Avg. Training loss: 4.6502 0.4420 sec/batch\n",
      "Epoch 1/10 Iteration: 4500 Avg. Training loss: 4.6617 0.4384 sec/batch\n",
      "Epoch 1/10 Iteration: 4600 Avg. Training loss: 4.6794 0.4388 sec/batch\n",
      "Epoch 2/10 Iteration: 4700 Avg. Training loss: 4.6229 0.3325 sec/batch\n",
      "Epoch 2/10 Iteration: 4800 Avg. Training loss: 4.5762 0.4418 sec/batch\n",
      "Epoch 2/10 Iteration: 4900 Avg. Training loss: 4.5391 0.4464 sec/batch\n",
      "Epoch 2/10 Iteration: 5000 Avg. Training loss: 4.5427 0.4450 sec/batch\n",
      "Nearest to have: populous, euler, hengest, unreasonable, incompatibilities, chisinau, www, mba,\n",
      "Nearest to a: replayed, manual, proposed, equiv, into, instance, melodic, small,\n",
      "Nearest to more: crafts, buff, staged, waiting, reiterates, authenticated, balance, pedophiles,\n",
      "Nearest to there: mapping, worst, hindi, used, dartford, monies, which, uncomfortable,\n",
      "Nearest to between: chadwick, spanking, ouguiya, regarding, crm, psychiatric, cubby, similarly,\n",
      "Nearest to up: invade, heredity, cerebellum, exilic, enhanced, osmosis, leeds, pricing,\n",
      "Nearest to other: rs, granting, terrain, donald, erupt, homogeneity, postmillennialism, study,\n",
      "Nearest to many: native, tracing, spider, minesweeper, cartoon, post, implications, thurman,\n",
      "Nearest to mainly: relationship, expos, touchscreen, fees, aside, lethality, harpercollins, societal,\n",
      "Nearest to recorded: carelessness, unary, might, spoke, utilised, subfamily, increase, massacre,\n",
      "Nearest to experience: mpg, possibly, checkerboard, freedmen, dvds, filename, westerly, aggressively,\n",
      "Nearest to joseph: shrimp, encyclop, margarete, knitted, xiv, honorius, geographer, eyewitness,\n",
      "Nearest to articles: linebackers, ramsar, yoshino, pleases, acronyms, abi, unsettling, anguilla,\n",
      "Nearest to account: airbus, mayo, ruthenian, gochujang, laptops, jacobites, fledgling, jeannie,\n",
      "Nearest to writers: by, bec, uprooted, joints, emirs, borrelly, psr, cahiers,\n",
      "Nearest to nobel: recipient, joker, prize, leonard, arbor, itt, syncretism, tall,\n",
      "Epoch 2/10 Iteration: 5100 Avg. Training loss: 4.5478 0.4464 sec/batch\n",
      "Epoch 2/10 Iteration: 5200 Avg. Training loss: 4.5390 0.4391 sec/batch\n",
      "Epoch 2/10 Iteration: 5300 Avg. Training loss: 4.5066 0.4347 sec/batch\n",
      "Epoch 2/10 Iteration: 5400 Avg. Training loss: 4.5236 0.4389 sec/batch\n",
      "Epoch 2/10 Iteration: 5500 Avg. Training loss: 4.5428 0.4395 sec/batch\n",
      "Epoch 2/10 Iteration: 5600 Avg. Training loss: 4.5188 0.4389 sec/batch\n",
      "Epoch 2/10 Iteration: 5700 Avg. Training loss: 4.5175 0.4361 sec/batch\n",
      "Epoch 2/10 Iteration: 5800 Avg. Training loss: 4.4482 0.4458 sec/batch\n",
      "Epoch 2/10 Iteration: 5900 Avg. Training loss: 4.4742 0.4560 sec/batch\n",
      "Epoch 2/10 Iteration: 6000 Avg. Training loss: 4.4790 0.4421 sec/batch\n",
      "Nearest to have: populous, euler, hengest, unreasonable, limiting, incompatibilities, mbps, chisinau,\n",
      "Nearest to a: manual, replayed, proposed, melodic, into, engage, folkestone, small,\n",
      "Nearest to more: crafts, buff, balance, reiterates, imf, additive, authenticated, waiting,\n",
      "Nearest to there: used, mapping, worst, monies, hindi, which, maiman, dartford,\n",
      "Nearest to between: chadwick, ouguiya, regarding, are, spanking, similarly, crm, psychiatric,\n",
      "Nearest to up: enhanced, invade, lakers, but, heredity, pricing, cerebellum, taken,\n",
      "Nearest to other: granting, postmillennialism, study, rs, tropes, homogeneity, erupt, stress,\n",
      "Nearest to many: minesweeper, native, tracing, spider, honky, implications, is, unparalleled,\n",
      "Nearest to mainly: fees, relationship, expos, touchscreen, lethality, marsden, aside, societal,\n",
      "Nearest to recorded: carelessness, unary, spoke, utilised, massacre, subfamily, mouthed, might,\n",
      "Nearest to experience: mpg, possibly, checkerboard, filename, freedmen, dvds, redeveloped, westerly,\n",
      "Nearest to joseph: eyewitness, encyclop, knew, xiv, saint, margarete, knitted, bazaar,\n",
      "Nearest to articles: ramsar, yoshino, acronyms, linebackers, pleases, abi, unsettling, protracted,\n",
      "Nearest to account: airbus, ruthenian, laptops, gochujang, correspondence, jeannie, jacobites, mayo,\n",
      "Nearest to writers: by, emirs, borrelly, uprooted, cahiers, coercion, snark, beatings,\n",
      "Nearest to nobel: recipient, joker, prize, leonard, arbor, itt, caecilius, syncretism,\n",
      "Epoch 2/10 Iteration: 6100 Avg. Training loss: 4.4902 0.4571 sec/batch\n",
      "Epoch 2/10 Iteration: 6200 Avg. Training loss: 4.4677 0.4460 sec/batch\n",
      "Epoch 2/10 Iteration: 6300 Avg. Training loss: 4.4505 0.4459 sec/batch\n",
      "Epoch 2/10 Iteration: 6400 Avg. Training loss: 4.4378 0.4427 sec/batch\n",
      "Epoch 2/10 Iteration: 6500 Avg. Training loss: 4.4539 0.4569 sec/batch\n",
      "Epoch 2/10 Iteration: 6600 Avg. Training loss: 4.4595 0.4621 sec/batch\n",
      "Epoch 2/10 Iteration: 6700 Avg. Training loss: 4.4194 0.4602 sec/batch\n",
      "Epoch 2/10 Iteration: 6800 Avg. Training loss: 4.4127 0.4659 sec/batch\n",
      "Epoch 2/10 Iteration: 6900 Avg. Training loss: 4.4600 0.4765 sec/batch\n",
      "Epoch 2/10 Iteration: 7000 Avg. Training loss: 4.3905 0.4644 sec/batch\n",
      "Nearest to have: populous, euler, hengest, limiting, uzziah, unreasonable, incompatibilities, irishman,\n",
      "Nearest to a: manual, into, folkestone, instance, misinterpretation, proposed, belonging, replayed,\n",
      "Nearest to more: crafts, balance, additive, buff, matches, imf, tradeoffs, crease,\n",
      "Nearest to there: used, hindi, mapping, monies, worst, which, scientists, dartford,\n",
      "Nearest to between: ouguiya, spanking, crm, are, chadwick, regarding, attacking, similarly,\n",
      "Nearest to up: lakers, enhanced, invade, cerebellum, heredity, adjustment, passes, seasoned,\n",
      "Nearest to other: study, postmillennialism, erupt, stress, tropes, homogeneity, bibel, vents,\n",
      "Nearest to many: native, garbage, honky, minesweeper, post, unparalleled, adventist, spider,\n",
      "Nearest to mainly: fees, expos, touchscreen, marsden, relationship, lethality, situation, societal,\n",
      "Nearest to recorded: carelessness, unary, subfamily, mouthed, utilised, massacre, streamed, bacon,\n",
      "Nearest to experience: possibly, mpg, checkerboard, freedmen, filename, dvds, tragedies, redeveloped,\n",
      "Nearest to joseph: xiv, encyclop, eyewitness, knew, margarete, bazaar, saint, knitted,\n",
      "Nearest to articles: yoshino, ramsar, pleases, acronyms, anguilla, linebackers, abi, windsurfing,\n",
      "Nearest to account: airbus, ruthenian, gochujang, correspondence, laptops, jeannie, jacobites, indicates,\n",
      "Nearest to writers: by, cahiers, emirs, uprooted, dictatorships, coercion, records, snark,\n",
      "Nearest to nobel: recipient, joker, prize, leonard, arbor, itt, caecilius, masoretic,\n",
      "Epoch 2/10 Iteration: 7100 Avg. Training loss: 4.4138 0.4695 sec/batch\n",
      "Epoch 2/10 Iteration: 7200 Avg. Training loss: 4.3884 0.4564 sec/batch\n",
      "Epoch 2/10 Iteration: 7300 Avg. Training loss: 4.3790 0.4573 sec/batch\n",
      "Epoch 2/10 Iteration: 7400 Avg. Training loss: 4.4177 0.4585 sec/batch\n",
      "Epoch 2/10 Iteration: 7500 Avg. Training loss: 4.4111 0.4547 sec/batch\n",
      "Epoch 2/10 Iteration: 7600 Avg. Training loss: 4.4249 0.4622 sec/batch\n",
      "Epoch 2/10 Iteration: 7700 Avg. Training loss: 4.3998 0.4552 sec/batch\n",
      "Epoch 2/10 Iteration: 7800 Avg. Training loss: 4.4162 0.4670 sec/batch\n",
      "Epoch 2/10 Iteration: 7900 Avg. Training loss: 4.3830 0.4574 sec/batch\n",
      "Epoch 2/10 Iteration: 8000 Avg. Training loss: 4.3671 0.4593 sec/batch\n",
      "Nearest to have: uzziah, euler, populous, hrer, limiting, chisinau, unreasonable, hengest,\n",
      "Nearest to a: manual, instance, into, folkestone, proposed, replayed, corresponding, engage,\n"
     ]
    },
    {
     "name": "stdout",
     "output_type": "stream",
     "text": [
      "Nearest to more: crafts, degeneracy, balance, pedophiles, matches, crankshafts, additive, waiting,\n",
      "Nearest to there: used, hindi, which, monies, mapping, worst, dartford, kowalski,\n",
      "Nearest to between: similarly, ouguiya, are, chadwick, crm, regarding, spanking, europeans,\n",
      "Nearest to up: lakers, enhanced, cerebellum, invade, adjustment, heredity, taken, outer,\n",
      "Nearest to other: stress, postmillennialism, granting, erupt, bibel, terrain, testament, homogeneity,\n",
      "Nearest to many: native, adventist, garbage, honky, minesweeper, post, spider, modules,\n",
      "Nearest to mainly: expos, fees, touchscreen, marsden, malaysia, providencia, aside, situation,\n",
      "Nearest to recorded: carelessness, unary, subfamily, massacre, streamed, mouthed, utilised, pomona,\n",
      "Nearest to experience: possibly, mpg, freedmen, checkerboard, filename, tragedies, dvds, mythical,\n",
      "Nearest to joseph: xiv, encyclop, eyewitness, knew, bazaar, lds, vainly, margarete,\n",
      "Nearest to articles: acronyms, yoshino, ramsar, pleases, facsimile, anguilla, protracted, linebackers,\n",
      "Nearest to account: airbus, ruthenian, gochujang, correspondence, jeannie, romans, laptops, jacobites,\n",
      "Nearest to writers: by, cahiers, uprooted, emirs, records, coercion, beatings, snark,\n",
      "Nearest to nobel: recipient, joker, prize, leonard, arbor, itt, caecilius, masoretic,\n",
      "Epoch 2/10 Iteration: 8100 Avg. Training loss: 4.3466 0.4613 sec/batch\n",
      "Epoch 2/10 Iteration: 8200 Avg. Training loss: 4.3009 0.4732 sec/batch\n",
      "Epoch 2/10 Iteration: 8300 Avg. Training loss: 4.3864 0.4499 sec/batch\n",
      "Epoch 2/10 Iteration: 8400 Avg. Training loss: 4.3812 0.4429 sec/batch\n",
      "Epoch 2/10 Iteration: 8500 Avg. Training loss: 4.4066 0.4388 sec/batch\n",
      "Epoch 2/10 Iteration: 8600 Avg. Training loss: 4.3337 0.4415 sec/batch\n",
      "Epoch 2/10 Iteration: 8700 Avg. Training loss: 4.3230 0.4369 sec/batch\n",
      "Epoch 2/10 Iteration: 8800 Avg. Training loss: 4.3668 0.4448 sec/batch\n",
      "Epoch 2/10 Iteration: 8900 Avg. Training loss: 4.2432 0.4406 sec/batch\n",
      "Epoch 2/10 Iteration: 9000 Avg. Training loss: 4.3372 0.4405 sec/batch\n",
      "Nearest to have: uzziah, populous, unreasonable, transient, contrast, hrer, fueled, chisinau,\n",
      "Nearest to a: replayed, manual, the, folkestone, xenosaga, into, proposed, robustness,\n",
      "Nearest to more: crafts, degeneracy, buff, balance, pedophiles, crankshafts, tradeoffs, imf,\n",
      "Nearest to there: used, hindi, monies, which, worst, maiman, mapping, uncomfortable,\n",
      "Nearest to between: ouguiya, similarly, are, chadwick, crm, spanking, belonging, regarding,\n",
      "Nearest to up: lakers, invade, enhanced, cerebellum, unscathed, osmosis, taken, microphotonics,\n",
      "Nearest to other: stress, granting, vents, terrain, postmillennialism, erupt, homogeneity, bibel,\n",
      "Nearest to many: adventist, minesweeper, post, garbage, spider, native, warthog, honky,\n",
      "Nearest to mainly: expos, fees, marsden, providencia, malaysia, touchscreen, situation, tiger,\n",
      "Nearest to recorded: carelessness, unary, subfamily, utilised, streamed, mouthed, mark, massacre,\n",
      "Nearest to experience: possibly, mpg, tragedies, checkerboard, freedmen, posterity, mythical, filename,\n",
      "Nearest to joseph: xiv, eyewitness, lds, encyclop, bazaar, esset, knew, wainwright,\n",
      "Nearest to articles: acronyms, yoshino, ramsar, facsimile, pleases, anguilla, www, gfdl,\n",
      "Nearest to account: airbus, ruthenian, correspondence, romans, gochujang, jeannie, bunghole, duckburg,\n",
      "Nearest to writers: cahiers, by, emirs, uprooted, beatings, records, coercion, entangle,\n",
      "Nearest to nobel: recipient, prize, joker, leonard, arbor, itt, physicist, vera,\n",
      "Epoch 2/10 Iteration: 9100 Avg. Training loss: 4.3349 0.4518 sec/batch\n",
      "Epoch 2/10 Iteration: 9200 Avg. Training loss: 4.3139 0.4392 sec/batch\n",
      "Epoch 3/10 Iteration: 9300 Avg. Training loss: 4.3591 0.2227 sec/batch\n",
      "Epoch 3/10 Iteration: 9400 Avg. Training loss: 4.2764 0.4390 sec/batch\n",
      "Epoch 3/10 Iteration: 9500 Avg. Training loss: 4.2528 0.4473 sec/batch\n",
      "Epoch 3/10 Iteration: 9600 Avg. Training loss: 4.2618 0.4584 sec/batch\n",
      "Epoch 3/10 Iteration: 9700 Avg. Training loss: 4.2470 0.4465 sec/batch\n",
      "Epoch 3/10 Iteration: 9800 Avg. Training loss: 4.2361 0.4450 sec/batch\n",
      "Epoch 3/10 Iteration: 9900 Avg. Training loss: 4.2384 0.4407 sec/batch\n",
      "Epoch 3/10 Iteration: 10000 Avg. Training loss: 4.2024 0.4322 sec/batch\n",
      "Nearest to have: populous, uzziah, transient, contrast, fueled, hrer, malinche, chisinau,\n",
      "Nearest to a: into, the, robustness, xenosaga, folkestone, replayed, small, corresponding,\n",
      "Nearest to more: crafts, degeneracy, matches, latino, staged, tradeoffs, balance, arecibo,\n",
      "Nearest to there: used, monies, which, hindi, caucasus, worst, maiman, mapping,\n",
      "Nearest to between: ouguiya, chadwick, crm, similarly, are, spanking, belonging, europeans,\n",
      "Nearest to up: enhanced, invade, lakers, taken, unscathed, osmosis, spacesuit, but,\n",
      "Nearest to other: granting, stress, postmillennialism, brindle, erupt, aeta, vents, terrain,\n",
      "Nearest to many: adventist, minesweeper, warthog, garbage, native, post, unparalleled, honky,\n",
      "Nearest to mainly: marsden, fees, tiger, aside, providencia, touchscreen, production, malaysia,\n",
      "Nearest to recorded: carelessness, subfamily, streamed, multiplan, unary, mark, guitars, mouthed,\n",
      "Nearest to experience: possibly, mpg, tragedies, freedmen, mythical, posterity, khaki, blame,\n",
      "Nearest to joseph: xiv, lds, treatise, wainwright, eyewitness, encyclop, knew, oppenheim,\n",
      "Nearest to articles: acronyms, yoshino, anguilla, pleases, ramsar, gfdl, windsurfing, www,\n",
      "Nearest to account: airbus, ruthenian, correspondence, romans, gochujang, practically, jeannie, duckburg,\n",
      "Nearest to writers: cahiers, viru, emirs, entangle, uprooted, coercion, borrelly, wands,\n",
      "Nearest to nobel: recipient, prize, joker, leonard, physicist, itt, arbor, clarkson,\n",
      "Epoch 3/10 Iteration: 10100 Avg. Training loss: 4.2585 0.4525 sec/batch\n",
      "Epoch 3/10 Iteration: 10200 Avg. Training loss: 4.2564 0.4434 sec/batch\n",
      "Epoch 3/10 Iteration: 10300 Avg. Training loss: 4.2635 0.4404 sec/batch\n",
      "Epoch 3/10 Iteration: 10400 Avg. Training loss: 4.1822 0.4464 sec/batch\n",
      "Epoch 3/10 Iteration: 10500 Avg. Training loss: 4.2128 0.4422 sec/batch\n",
      "Epoch 3/10 Iteration: 10600 Avg. Training loss: 4.1880 0.4406 sec/batch\n"
     ]
    }
   ],
   "source": [
    "epochs = 10\n",
    "batch_size = 1000\n",
    "window_size = 10\n",
    "\n",
    "with train_graph.as_default():\n",
    "    saver = tf.train.Saver()\n",
    "\n",
    "with tf.Session(graph=train_graph) as sess:\n",
    "    iteration = 1\n",
    "    loss = 0\n",
    "    sess.run(tf.global_variables_initializer())\n",
    "\n",
    "    for e in range(1, epochs+1):\n",
    "        batches = get_batches(train_words, batch_size, window_size)\n",
    "        start = time.time()\n",
    "        for x, y in batches:\n",
    "            \n",
    "            feed = {inputs: x,\n",
    "                    labels: np.array(y)[:, None]}\n",
    "            train_loss, _ = sess.run([cost, optimizer], feed_dict=feed)\n",
    "            \n",
    "            loss += train_loss\n",
    "            \n",
    "            if iteration % 100 == 0: \n",
    "                end = time.time()\n",
    "                print(\"Epoch {}/{}\".format(e, epochs),\n",
    "                      \"Iteration: {}\".format(iteration),\n",
    "                      \"Avg. Training loss: {:.4f}\".format(loss/100),\n",
    "                      \"{:.4f} sec/batch\".format((end-start)/100))\n",
    "                loss = 0\n",
    "                start = time.time()\n",
    "            \n",
    "            if iteration % 1000 == 0:\n",
    "                ## From Thushan Ganegedara's implementation\n",
    "                # note that this is expensive (~20% slowdown if computed every 500 steps)\n",
    "                sim = similarity.eval()\n",
    "                for i in range(valid_size):\n",
    "                    valid_word = int_to_vocab[valid_examples[i]]\n",
    "                    top_k = 8 # number of nearest neighbors\n",
    "                    nearest = (-sim[i, :]).argsort()[1:top_k+1]\n",
    "                    log = 'Nearest to %s:' % valid_word\n",
    "                    for k in range(top_k):\n",
    "                        close_word = int_to_vocab[nearest[k]]\n",
    "                        log = '%s %s,' % (log, close_word)\n",
    "                    print(log)\n",
    "            \n",
    "            iteration += 1\n",
    "    save_path = saver.save(sess, \"checkpoints/text8.ckpt\")\n",
    "    embed_mat = sess.run(normalized_embedding)"
   ]
  },
  {
   "cell_type": "markdown",
   "metadata": {},
   "source": [
    "Restore the trained network if you need to:"
   ]
  },
  {
   "cell_type": "code",
   "execution_count": null,
   "metadata": {
    "collapsed": true
   },
   "outputs": [],
   "source": [
    "with train_graph.as_default():\n",
    "    saver = tf.train.Saver()\n",
    "\n",
    "with tf.Session(graph=train_graph) as sess:\n",
    "    saver.restore(sess, tf.train.latest_checkpoint('checkpoints'))\n",
    "    embed_mat = sess.run(embedding)"
   ]
  },
  {
   "cell_type": "markdown",
   "metadata": {},
   "source": [
    "## Visualizing the word vectors\n",
    "\n",
    "Below we'll use T-SNE to visualize how our high-dimensional word vectors cluster together. T-SNE is used to project these vectors into two dimensions while preserving local stucture. Check out [this post from Christopher Olah](http://colah.github.io/posts/2014-10-Visualizing-MNIST/) to learn more about T-SNE and other ways to visualize high-dimensional data."
   ]
  },
  {
   "cell_type": "code",
   "execution_count": null,
   "metadata": {
    "collapsed": true
   },
   "outputs": [],
   "source": [
    "%matplotlib inline\n",
    "%config InlineBackend.figure_format = 'retina'\n",
    "\n",
    "import matplotlib.pyplot as plt\n",
    "from sklearn.manifold import TSNE"
   ]
  },
  {
   "cell_type": "code",
   "execution_count": null,
   "metadata": {
    "collapsed": true
   },
   "outputs": [],
   "source": [
    "viz_words = 500\n",
    "tsne = TSNE()\n",
    "embed_tsne = tsne.fit_transform(embed_mat[:viz_words, :])"
   ]
  },
  {
   "cell_type": "code",
   "execution_count": null,
   "metadata": {
    "collapsed": true
   },
   "outputs": [],
   "source": [
    "fig, ax = plt.subplots(figsize=(14, 14))\n",
    "for idx in range(viz_words):\n",
    "    plt.scatter(*embed_tsne[idx, :], color='steelblue')\n",
    "    plt.annotate(int_to_vocab[idx], (embed_tsne[idx, 0], embed_tsne[idx, 1]), alpha=0.7)"
   ]
  }
 ],
 "metadata": {
  "kernelspec": {
   "display_name": "Python 3",
   "language": "python",
   "name": "python3"
  },
  "language_info": {
   "codemirror_mode": {
    "name": "ipython",
    "version": 3
   },
   "file_extension": ".py",
   "mimetype": "text/x-python",
   "name": "python",
   "nbconvert_exporter": "python",
   "pygments_lexer": "ipython3",
   "version": "3.5.4"
  }
 },
 "nbformat": 4,
 "nbformat_minor": 2
}
